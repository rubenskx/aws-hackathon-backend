{
 "cells": [
  {
   "cell_type": "code",
   "execution_count": null,
   "id": "92626bb8",
   "metadata": {},
   "outputs": [],
   "source": [
    "from bedrock_agentcore_starter_toolkit import Runtime\n",
    "from boto3.session import Session\n",
    "from dotenv import load_dotenv\n",
    "boto_session = Session()\n",
    "load_dotenv()\n",
    "\n",
    "region = boto_session.region_name\n",
    "\n",
    "agentcore_runtime = Runtime()\n",
    "agent_name = \"auditing_crew_getting_started_new_configured\"\n",
    "response = agentcore_runtime.configure(\n",
    "    entrypoint=\"src/auditing_crew.py\",\n",
    "    auto_create_execution_role=True,\n",
    "    auto_create_ecr=True,\n",
    "    region=region,\n",
    "    agent_name=agent_name\n",
    ")\n",
    "response"
   ]
  },
  {
   "cell_type": "code",
   "execution_count": null,
   "id": "4bd14e71",
   "metadata": {},
   "outputs": [],
   "source": [
    "launch_result = agentcore_runtime.launch()"
   ]
  },
  {
   "cell_type": "code",
   "execution_count": null,
   "id": "fb94b26f",
   "metadata": {},
   "outputs": [],
   "source": [
    "!uv sync --active --force-reinstall"
   ]
  },
  {
   "cell_type": "code",
   "execution_count": null,
   "id": "1fba99d4",
   "metadata": {},
   "outputs": [],
   "source": [
    "import time\n",
    "status_response = agentcore_runtime.status()\n",
    "status = status_response.endpoint['status']\n",
    "end_status = ['READY', 'CREATE_FAILED', 'DELETE_FAILED', 'UPDATE_FAILED']\n",
    "while status not in end_status:\n",
    "    time.sleep(10)\n",
    "    status_response = agentcore_runtime.status()\n",
    "    status = status_response.endpoint['status']\n",
    "    print(status)\n",
    "status"
   ]
  },
  {
   "cell_type": "code",
   "execution_count": null,
   "id": "432ea07d",
   "metadata": {},
   "outputs": [
    {
     "name": "stdout",
     "output_type": "stream",
     "text": [
      "Answer: According to the information provided, an entity should present a statement of cash flows in accordance with Ind AS 7, Statement of Cash Flows. This is mentioned as part of the complete set of financial statements that an entity must prepare.\n",
      "\n",
      "For cash flow statements, there's a specific example provided regarding foreign currency transactions. When an entity has bank balance in foreign currency, it should reconcile any unrealized exchange gains or losses. The example shows that for statement of cash flows purposes, unrealized exchange gains should be excluded from the cash flow calculation, and a reconciliation should be provided between the cash and cash equivalents as per the statement of cash flows and as per the balance sheet. The statement of cash flows is one of the required components in a complete set of financial statements, along with:\n",
      "- A balance sheet as at the end of the period\n",
      "- A statement of profit and loss for the period\n",
      "- Statement of changes in equity for the period\n",
      "- Notes comprising significant accounting policies and other explanatory information\n",
      "- Comparative information in respect of the preceding period\n",
      "- A balance sheet as at the beginning of the preceding period in certain cases\n",
      "\n",
      "The purpose of financial statements, including the cash flow statement, is to provide information that assists users in predicting the entity's future cash flows and, in particular, their timing and certainty.\n",
      "Citation: {'generatedResponsePart': {'textResponsePart': {'text': \"According to the information provided, an entity should present a statement of cash flows in accordance with Ind AS 7, Statement of Cash Flows. This is mentioned as part of the complete set of financial statements that an entity must prepare.\\n\\nFor cash flow statements, there's a specific example provided regarding foreign currency transactions. When an entity has bank balance in foreign currency, it should reconcile any unrealized exchange gains or losses. The example shows that for statement of cash flows purposes, unrealized exchange gains should be excluded from the cash flow calculation, and a reconciliation should be provided between the cash and cash equivalents as per the statement of cash flows and as per the balance sheet.\", 'span': {'start': 0, 'end': 740}}}, 'retrievedReferences': [{'content': {'type': 'TEXT', 'text': 'Statement of Changes in Equity Ind AS 1 requires an entity to present a statement of changes in equity. The statement includes the following information:     (a) total comprehensive income for the period, showing separately the total amounts attributable to owners of the parent and to non- controlling interests;Educational Material on Ind AS 1     12     (b) for each component of equity, the effects of retrospective application or retrospective restatement recognised in accordance with Ind AS 8;     (c) for each component of equity, a reconciliation between the carrying amount at the beginning and the end of the period, separately (as a minimum) disclosing each changes resulting from:     (i) profit or loss;     (ii) other comprehensive income;     (iii) transactions with owners in their capacity as owners, showing separately contributions by and distributions to owners and changes in ownership interests in subsidiaries that do not result in a loss of control; and     (iv) any item recognised directly in equity such as amount recognised directly in equity as capital reserve in accordance with Ind AS 103.     Statement of Cash Flows     An entity should present a statement of cash flows in accordance with Ind AS 7, Statement of Cash Flows.'}, 'location': {'type': 'S3', 's3Location': {'uri': 's3://aws-hackathon-us-east-1/ind_as_1.pdf'}}, 'metadata': {'x-amz-bedrock-kb-source-uri': 's3://aws-hackathon-us-east-1/ind_as_1.pdf', 'x-amz-bedrock-kb-document-page-number': 24.0, 'x-amz-bedrock-kb-chunk-id': 'fde1b7fd-c5ca-4b02-a10e-fa7eeb93fd1e', 'x-amz-bedrock-kb-data-source-id': 'HFZYDWPMTV'}}, {'content': {'type': 'TEXT', 'text': 'For example, an entity has bank balance in foreign currency aggregating to USD 100 (equivalent to INR 6500). Presuming no other transaction taking place, the entity reported a profit before tax of Rs. 100 on account of exchange gain on the bank balance in foreign currency. As such, the closing cash and cash equivalents as per the balance sheet should be INR 6600 (i.e. USD 100 × 66)     For the purpose of statement of cash flows, the entity shall present the following:     Profit before tax 100     Less: unrealised exchange gain (100)     Cash flow from operating activities 0     Cash flow from investing activities 0     Cash flow from financing activities 0     Net increase in cash and cash equivalents during the year 0     Add: Opening balance of cash and cash equivalents 6,500     Cash and cash equivalents as at the year end 6,500     Reconciliation of cash and cash equivalents     Cash and cash equivalents as per statement of cash flows 6,500     Add: Unrealised gain on cash and cash equivalents 100     Cash and cash equivalents as per the balance sheet 6,600     Question 10     Is it mandatory for an entity to present current and non-current assets, and current and non-current liabilities, as separate classification in its balance sheet even if such classification is difficult?'}, 'location': {'type': 'S3', 's3Location': {'uri': 's3://aws-hackathon-us-east-1/ind_as_1.pdf'}}, 'metadata': {'x-amz-bedrock-kb-source-uri': 's3://aws-hackathon-us-east-1/ind_as_1.pdf', 'x-amz-bedrock-kb-document-page-number': 33.0, 'x-amz-bedrock-kb-chunk-id': '1c1c1668-0a28-4ef9-9d01-2a38a3093f03', 'x-amz-bedrock-kb-data-source-id': 'HFZYDWPMTV'}}]}\n",
      "Citation: {'generatedResponsePart': {'textResponsePart': {'text': \"The statement of cash flows is one of the required components in a complete set of financial statements, along with:\\n- A balance sheet as at the end of the period\\n- A statement of profit and loss for the period\\n- Statement of changes in equity for the period\\n- Notes comprising significant accounting policies and other explanatory information\\n- Comparative information in respect of the preceding period\\n- A balance sheet as at the beginning of the preceding period in certain cases\\n\\nThe purpose of financial statements, including the cash flow statement, is to provide information that assists users in predicting the entity's future cash flows and, in particular, their timing and certainty.\", 'span': {'start': 742, 'end': 1435}}}, 'retrievedReferences': [{'content': {'type': 'TEXT', 'text': 'To meet the objective, financial statements provide information about an entity’s:     \\uf09f assets;     \\uf09f liabilities;     \\uf09f equity;     \\uf09f income and expenses, including gains and losses;     \\uf09f contributions by and distributions to owners in their capacity as owners; and     \\uf09f cash flows.Educational Material on Ind AS 1     2     That information, along with other information in the notes, assists users of financial statements in predicting the entity’s future cash flows and, in particular, their timing and certainty.     Complete set of Financial Statements A complete set of financial statements comprises:     \\uf09f a balance sheet as at the end of the period;     \\uf09f a statement of profit and loss for the period;     \\uf09f statement of changes in equity for the period;     \\uf09f a statement of cash flows for the period;     \\uf09f notes, comprising significant accounting policies and other explanatory information;     \\uf09f comparative information in respect of the preceding period;     \\uf09f a balance sheet as at the beginning of the preceding period when an entity applies an accounting policy retrospectively or makes a retrospective restatements of items in its financial statements, or when it reclassifies items in its financial statements.     An entity shall present a single statement of profit and loss, with profit or loss and other comprehensive income presented in two sections.'}, 'location': {'type': 'S3', 's3Location': {'uri': 's3://aws-hackathon-us-east-1/ind_as_1.pdf'}}, 'metadata': {'x-amz-bedrock-kb-source-uri': 's3://aws-hackathon-us-east-1/ind_as_1.pdf', 'x-amz-bedrock-kb-document-page-number': 14.0, 'x-amz-bedrock-kb-chunk-id': '2f3b27d0-8ab3-4a37-87ca-14b211a2ce2b', 'x-amz-bedrock-kb-data-source-id': 'HFZYDWPMTV'}}]}\n"
     ]
    }
   ],
   "source": [
    "import boto3\n",
    "import json\n",
    "from dotenv import load_dotenv\n",
    "load_dotenv()\n",
    "\n",
    "bedrock_agent_runtime = boto3.client(\n",
    "    service_name='bedrock-agent-runtime',\n",
    "    region_name='us-east-1'  # e.g., 'us-east-1', 'us-west-2'\n",
    ")\n",
    "\n",
    "\n",
    "def retrieve_and_generate(knowledge_base_id, query, model_id):\n",
    "    response = bedrock_agent_runtime.retrieve_and_generate(\n",
    "        input={\n",
    "            'text': query\n",
    "        },\n",
    "        retrieveAndGenerateConfiguration={\n",
    "            'type': \"KNOWLEDGE_BASE\",\n",
    "            'knowledgeBaseConfiguration': {\n",
    "                'knowledgeBaseId': knowledge_base_id,\n",
    "                'modelArn': model_id,\n",
    "            }\n",
    "        }\n",
    "    )\n",
    "\n",
    "    return response\n",
    "\n",
    "\n",
    "knowledge_base_id = 'O3IBGYPABF'\n",
    "query = 'What information do you have about compliance guidelines on cash flow statement?'\n",
    "# or another supported model\n",
    "model_id = 'arn:aws:bedrock:us-east-1:992382746523:inference-profile/us.anthropic.claude-3-7-sonnet-20250219-v1:0'\n",
    "\n",
    "try:\n",
    "    result = retrieve_and_generate(knowledge_base_id, query, model_id)\n",
    "\n",
    "    # Extract the generated answer\n",
    "    answer = result['output']['text']\n",
    "    print(f\"Answer: {answer}\")\n",
    "\n",
    "    # Retrieve citation information\n",
    "    citations = result.get('citations', [])\n",
    "    for citation in citations:\n",
    "        print(f\"Citation: {citation}\")\n",
    "\n",
    "except Exception as e:\n",
    "    print(f\"Error: {str(e)}\")"
   ]
  },
  {
   "cell_type": "code",
   "execution_count": null,
   "id": "034f2df6",
   "metadata": {},
   "outputs": [],
   "source": [
    "from botocore.config import Config\n",
    "\n",
    "# Configure retries and timeout\n",
    "config = Config(\n",
    "    retries={\n",
    "        'max_attempts': 10,  # Increase max retries to 10 (default is 4)\n",
    "        'mode': 'adaptive'   # Options: 'legacy', 'standard', 'adaptive'\n",
    "    },\n",
    "    connect_timeout=600,      # Connection timeout in seconds (default is 60)\n",
    "    read_timeout=3000         # Read timeout in seconds (default is 60)\n",
    ")"
   ]
  },
  {
   "cell_type": "code",
   "execution_count": null,
   "id": "bf3fc501",
   "metadata": {},
   "outputs": [],
   "source": [
    "import boto3\n",
    "import json\n",
    "agent_arn = launch_result.agent_arn\n",
    "agentcore_client = boto3.client(\n",
    "    'bedrock-agentcore',\n",
    "    region_name=region,\n",
    "    config=config\n",
    ")\n",
    "\n",
    "boto3_response = agentcore_client.invoke_agent_runtime(\n",
    "    agentRuntimeArn=agent_arn,\n",
    "    qualifier=\"DEFAULT\",\n",
    "    payload=json.dumps({\"prompt\": \"Artificial Intelligence in Healthcare\"})\n",
    ")\n",
    "\n",
    "response_body = boto3_response['response'].read()\n",
    "response_data = json.loads(response_body)\n",
    "response_data"
   ]
  },
  {
   "cell_type": "code",
   "execution_count": 20,
   "id": "d9c23cd1",
   "metadata": {},
   "outputs": [],
   "source": [
    "from textractor import Textractor\n",
    "from textractor.data.constants import TextractFeatures\n",
    "\n",
    "extractor = Textractor(profile_name=\"default\")\n",
    "\n",
    "document = extractor.start_document_analysis(\n",
    "    file_source=\"s3://textract-console-ap-south-1-2901ebb3-1ec7-4e10-8813-6d3b48710e5/Integrated_Report_and_Annual_Financial_Statements.pdf\",\n",
    "    features=TextractFeatures.TABLES,\n",
    "    s3_output_path=\"s3://textract-console-ap-south-1-2901ebb3-1ec7-4e10-8813-6d3b48710e5/output/\",\n",
    ")"
   ]
  },
  {
   "cell_type": "code",
   "execution_count": 18,
   "id": "5b29c14e",
   "metadata": {},
   "outputs": [],
   "source": [
    "from textractor.visualizers.entitylist import EntityList\n",
    "from textractor.data.constants import TextractFeatures\n",
    "from textractor.data.text_linearization_config import TextLinearizationConfig\n",
    "from textractor.data.markdown_linearization_config import MarkdownLinearizationConfig"
   ]
  },
  {
   "cell_type": "code",
   "execution_count": 13,
   "id": "6f946c86",
   "metadata": {},
   "outputs": [
    {
     "data": {
      "text/plain": [
       "<textractor.entities.lazy_document.LazyDocument at 0x2b64c282570>"
      ]
     },
     "execution_count": 13,
     "metadata": {},
     "output_type": "execute_result"
    }
   ],
   "source": [
    "document"
   ]
  },
  {
   "cell_type": "code",
   "execution_count": 25,
   "id": "38c84954",
   "metadata": {},
   "outputs": [],
   "source": [
    "text = document.to_markdown(MarkdownLinearizationConfig(\n",
    "    table_column_separator=\"|\", table_row_separator=\"\\n\"))\n",
    "\n",
    "\n",
    "with open(\"output.md\", \"w\", encoding=\"utf-8\", newline=\"\\n\") as f:\n",
    "    f.write(text)"
   ]
  },
  {
   "cell_type": "code",
   "execution_count": 55,
   "id": "3c932656",
   "metadata": {},
   "outputs": [
    {
     "name": "stdout",
     "output_type": "stream",
     "text": [
      "{'message': 'Service Unavailable'}\n"
     ]
    }
   ],
   "source": [
    "import requests\n",
    "import base64\n",
    "import json\n",
    "import uuid\n",
    "\n",
    "# Generate a random UUID (version 4)\n",
    "unique_id = str(uuid.uuid4())\n",
    "\n",
    "url = \"https://pgrq5idqw4.execute-api.ap-south-1.amazonaws.com/test/upload\"\n",
    "\n",
    "with open(r\"F:\\udemy\\langchain\\langgraph\\aws-hackathon-backend\\src\\knowledge\\tcs_balance_sheet_fy25.pdf\", \"rb\") as f:\n",
    "    file_content_1 = base64.b64encode(f.read()).decode()\n",
    "with open(r\"F:\\udemy\\langchain\\langgraph\\aws-hackathon-backend\\src\\knowledge\\TCS_cashflows_fy26.pdf\", \"rb\") as f:\n",
    "    file_content_2 = base64.b64encode(f.read()).decode()\n",
    "with open(r\"F:\\udemy\\langchain\\langgraph\\aws-hackathon-backend\\src\\knowledge\\tcs_income_fy25.pdf\", \"rb\") as f:\n",
    "    file_content_3 = base64.b64encode(f.read()).decode()\n",
    "\n",
    "payload = {\n",
    "        \"id\": unique_id,\n",
    "        \"files\":[\n",
    "            {\n",
    "                \"file_content\": file_content_1,\n",
    "                \"type\": \"balance_sheet\",\n",
    "            },\n",
    "            {\n",
    "                \"file_content\": file_content_2,\n",
    "                \"type\": \"cash_flows\",\n",
    "            },\n",
    "            {\n",
    "                \"file_content\": file_content_3,\n",
    "                \"type\": \"income_statement\",\n",
    "            },\n",
    "\n",
    "\n",
    "        ]\n",
    "    }\n",
    "\n",
    "\n",
    "headers = {\"Content-Type\": \"application/json\"}\n",
    "\n",
    "response = requests.post(url, headers=headers, data=json.dumps(payload))\n",
    "print(response.json())"
   ]
  }
 ],
 "metadata": {
  "kernelspec": {
   "display_name": "myenv",
   "language": "python",
   "name": "python3"
  },
  "language_info": {
   "codemirror_mode": {
    "name": "ipython",
    "version": 3
   },
   "file_extension": ".py",
   "mimetype": "text/x-python",
   "name": "python",
   "nbconvert_exporter": "python",
   "pygments_lexer": "ipython3",
   "version": "3.12.11"
  }
 },
 "nbformat": 4,
 "nbformat_minor": 5
}
